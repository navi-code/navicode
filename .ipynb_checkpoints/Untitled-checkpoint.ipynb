{
 "cells": [
  {
   "cell_type": "code",
   "execution_count": 1,
   "metadata": {},
   "outputs": [],
   "source": [
    "import re"
   ]
  },
  {
   "cell_type": "code",
   "execution_count": 2,
   "metadata": {},
   "outputs": [],
   "source": [
    "s = \"\"\"\n",
    "# Hello world this is a comment\n",
    "var i = 0\n",
    "# And this is another # one\n",
    "\n",
    "\"\"\""
   ]
  },
  {
   "cell_type": "code",
   "execution_count": 7,
   "metadata": {},
   "outputs": [
    {
     "data": {
      "text/plain": [
       "[['Declare a variable'], ['Hello World']]"
      ]
     },
     "execution_count": 7,
     "metadata": {},
     "output_type": "execute_result"
    }
   ],
   "source": [
    "pattern = re.compile('(?:/\\*(.*?)\\*/)|(?://(.*?)\\n)',re.S)\n",
    "comments = pattern.findall(s)\n",
    "\n",
    "comments = [[re.sub(' +', ' ', line.strip().replace(\"\\n\", \" \")) for line in comment if len(line) != 0] \n",
    "            for comment in comments]\n",
    "comments"
   ]
  },
  {
   "cell_type": "code",
   "execution_count": 21,
   "metadata": {},
   "outputs": [
    {
     "name": "stdout",
     "output_type": "stream",
     "text": [
      "# Hello world this is a comment\n",
      "\n",
      "# And this is another # one\n",
      "\n",
      "\"\"\"\n",
      "    Update player's x coordinate\n",
      "    Params\n",
      "    ======\n",
      "    x (int)\n",
      "        : Add to player's current x coordinate the value x (either positive or negative)\n",
      "    \"\"\"\n",
      "\n",
      "# If agent can move\n",
      "\n",
      "# Update current x coordinate by adding new x\n",
      "\n",
      "# If x coordinate goes out of bounds of the pygame screen then adjust it\n",
      "\n",
      "# Reduce energy by 2 for movement\n",
      "\n"
     ]
    }
   ],
   "source": [
    "import tokenize\n",
    "\n",
    "with open('a.py', 'r') as file:\n",
    "    tokens = tokenize.generate_tokens(file.readline)\n",
    "    for token in tokens:\n",
    "        if token.type == 55:\n",
    "            print(token.string)\n",
    "            print()\n",
    "        elif token.type == 3 and token.string.startswith('\"\"\"'):\n",
    "            print(token.string)\n",
    "            print()"
   ]
  },
  {
   "cell_type": "code",
   "execution_count": null,
   "metadata": {},
   "outputs": [],
   "source": []
  }
 ],
 "metadata": {
  "kernelspec": {
   "display_name": "Python 3",
   "language": "python",
   "name": "python3"
  },
  "language_info": {
   "codemirror_mode": {
    "name": "ipython",
    "version": 3
   },
   "file_extension": ".py",
   "mimetype": "text/x-python",
   "name": "python",
   "nbconvert_exporter": "python",
   "pygments_lexer": "ipython3",
   "version": "3.7.4"
  }
 },
 "nbformat": 4,
 "nbformat_minor": 2
}
